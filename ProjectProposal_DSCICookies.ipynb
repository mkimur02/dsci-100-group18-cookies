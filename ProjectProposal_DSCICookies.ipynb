{
 "cells": [
  {
   "cell_type": "markdown",
   "id": "236bdeb1-fe05-4b17-82e5-8ec5c24765bb",
   "metadata": {},
   "source": [
    "# DSCI Project Proposal: Variables that affect Chocolate Rating\n",
    "\n",
    "### Question:\n",
    "How does different variables(Manufacture Company, Bean origin, Cocoa%, Company Location, BeanType) affect the expert rating of choclate bars? \n",
    "### Introduction:\n",
    "To make chocolate, seeds are harvested from the cacao tree and ground into cocoa, which when combined with other ingredients creates chocolate. Many factors play into the creation of chocolate, such as the percentage of cocoa, the company that produced the chocolate, the specific bean origin, and other variables. Our question is if the rating of the chocolate can be predicted using said variables. The dataset that will be used to answer this question is the “Chocolate Bar Ratings” dataset uploaded by Rachael Tatman which includes expert ratings of over 1,700 chocolate bars that includes relevant information and multiple variables about each chocolate rated. \n",
    "\n",
    "##### Columns: \n",
    "* Company: Name of the company manufacturing the bar\n",
    "* Specific Bean Origin: The specific geo-region of origin for the bar\n",
    "* REF: A value linked to when the review was entered in the database. Higher = more recent.\n",
    "* Review Date: Date of publication of the review.\n",
    "* CocoaPercent: Cocoa percentage (darkness) of the chocolate bar being reviewed.\n",
    "* Company Location: Manufacturer base country.\n",
    "* Rating: Expert rating for the bar from 1-5.\n",
    "* BeanType: The variety (breed) of bean used, if provided.\n",
    "* Broad Bean Origin: The broad geo-region of origin for the bean.\n",
    "\n",
    "### Methods:\n",
    "We will filter out the more recent ratings with the column that indicates the review date so that our analysis is not outdated. We are planning to make a graph with the cocoa percentage on the x-axis, ratings on the y-axis, and the companies distinguished with different coloured points.\n",
    "\n",
    "### Expected outcomes and significance:\n",
    "##### What do you expect to find? \n",
    "We expect to find what variables impact the expert rating of chocolate bar the most. We will find the relationship between; the brand vs. rating, country of cocoa vs. rating, and cocoa % vs. rating.\n",
    "##### What impact could such findings have?\n",
    "(1)Our decisions on purchasing which type of chocolate. (2)Inform and recommend companies what % of cocoa is best.(3)From which country should companies purchase cacao?  \n",
    "##### What future questions could this lead to?\n",
    "Does the specific bean of origin and type of bean impact the rating? How reliable is this dataset? This can be investigated through comparing other dataset ratings.\n",
    "\n",
    "\n",
    "\n",
    " \n",
    "\n",
    "\n"
   ]
  },
  {
   "cell_type": "code",
   "execution_count": null,
   "id": "11d4649b-c3a1-4b6b-8663-b057034e93b0",
   "metadata": {},
   "outputs": [],
   "source": []
  }
 ],
 "metadata": {
  "kernelspec": {
   "display_name": "Python 3 (ipykernel)",
   "language": "python",
   "name": "python3"
  },
  "language_info": {
   "codemirror_mode": {
    "name": "ipython",
    "version": 3
   },
   "file_extension": ".py",
   "mimetype": "text/x-python",
   "name": "python",
   "nbconvert_exporter": "python",
   "pygments_lexer": "ipython3",
   "version": "3.10.8"
  }
 },
 "nbformat": 4,
 "nbformat_minor": 5
}
